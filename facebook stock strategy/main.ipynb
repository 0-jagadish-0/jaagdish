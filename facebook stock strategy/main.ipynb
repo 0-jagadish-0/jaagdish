{
 "cells": [
  {
   "cell_type": "markdown",
   "metadata": {},
   "source": [
    "# Simple Trading Strategy Using Facebook Stock Data\n",
    "\n",
    "### Tools Used:\n",
    "- **Python**: Programming language for data analysis and manipulation.\n",
    "- **Pandas**: Library for data manipulation and analysis, particularly useful for time series data.\n",
    "- **Matplotlib**: Library for data visualization to create plots and graphs.\n",
    "\n",
    "### Project Overview:\n",
    "In this project, we will develop a simple trading strategy using historical stock data for Facebook (Meta Platforms). The strategy involves creating a plot that compares the 10-day moving average (MA10) with the 50-day moving average (MA50). \n",
    "\n",
    "The strategy works as follows:\n",
    "- When the MA10 (short-term average) crosses above the MA50 (long-term average), it signals a \"buy\" condition (denoted by 1 in the \"Shares\" column).\n",
    "- Otherwise, the strategy signals no action (denoted by 0).\n",
    "  \n",
    "We will track the total money accumulated by \"buying\" a single share of stock when the buy condition is met and calculate the overall performance of this simple trading strategy over a period of time.\n",
    "\n",
    "#### Key Steps:\n",
    "1. **Data Collection**: Retrieve historical Facebook stock data.\n",
    "2. **Moving Average Calculation**: Calculate the 10-day and 50-day moving averages.\n",
    "3. **Trading Signal Generation**: Create a \"Shares\" column that indicates whether to buy (1) or do nothing (0).\n",
    "4. **Strategy Evaluation**: Track the total money accumulated over time based on the trading signals.\n",
    "\n",
    "---\n"
   ]
  },
  {
   "cell_type": "code",
   "execution_count": 78,
   "metadata": {},
   "outputs": [],
   "source": [
    "# pandas library is used for pre-processing and provides dataframe which is good for storing time series data\n",
    "import pandas as pd  \n",
    "\n",
    "# Importing matplotlib to create visualizations \n",
    "import matplotlib.pyplot as plt\n",
    "\n"
   ]
  },
  {
   "cell_type": "code",
   "execution_count": 79,
   "metadata": {},
   "outputs": [],
   "source": [
    "# Loading the data from a CSV file into a pandas DataFrame\n",
    "fb = pd.read_csv('FB.csv')\n"
   ]
  },
  {
   "cell_type": "code",
   "execution_count": 80,
   "metadata": {},
   "outputs": [],
   "source": [
    "# Converting the 'Date' column from string format to datetime format for easier manipulation\n",
    "# This allows us to work with dates as proper datetime objects (e.g., for sorting, plotting, etc.)\n",
    "fb['Date'] = pd.to_datetime(fb['Date'])\n",
    "\n",
    "# Setting the 'Date' column as the index of the DataFrame to make time series operations easier\n",
    "# This allows us to reference data by date and perform time-based analyses\n",
    "fb.set_index('Date', inplace=True)\n"
   ]
  },
  {
   "cell_type": "markdown",
   "metadata": {},
   "source": [
    "## Adding two columns MA10 and MA50"
   ]
  },
  {
   "cell_type": "code",
   "execution_count": 81,
   "metadata": {},
   "outputs": [],
   "source": [
    "# Calculate the 10-day moving average of the 'Close' prices and add it as a new column 'MA10'\n",
    "fb['MA10'] = fb['Close'].rolling(10).mean()\n",
    "\n",
    "# Calculate the 50-day moving average of the 'Close' prices and add it as a new column 'MA50'\n",
    "fb['MA50'] = fb['Close'].rolling(50).mean()\n",
    "\n",
    "# Remove rows with missing values (e.g., rows where moving averages couldn't be calculated due to insufficient data)\n",
    "fb = fb.dropna()\n"
   ]
  },
  {
   "cell_type": "code",
   "execution_count": 82,
   "metadata": {},
   "outputs": [
    {
     "data": {
      "text/html": [
       "<div>\n",
       "<style scoped>\n",
       "    .dataframe tbody tr th:only-of-type {\n",
       "        vertical-align: middle;\n",
       "    }\n",
       "\n",
       "    .dataframe tbody tr th {\n",
       "        vertical-align: top;\n",
       "    }\n",
       "\n",
       "    .dataframe thead th {\n",
       "        text-align: right;\n",
       "    }\n",
       "</style>\n",
       "<table border=\"1\" class=\"dataframe\">\n",
       "  <thead>\n",
       "    <tr style=\"text-align: right;\">\n",
       "      <th></th>\n",
       "      <th>Open</th>\n",
       "      <th>High</th>\n",
       "      <th>Low</th>\n",
       "      <th>Close</th>\n",
       "      <th>Adj Close</th>\n",
       "      <th>Volume</th>\n",
       "      <th>MA10</th>\n",
       "      <th>MA50</th>\n",
       "    </tr>\n",
       "    <tr>\n",
       "      <th>Date</th>\n",
       "      <th></th>\n",
       "      <th></th>\n",
       "      <th></th>\n",
       "      <th></th>\n",
       "      <th></th>\n",
       "      <th></th>\n",
       "      <th></th>\n",
       "      <th></th>\n",
       "    </tr>\n",
       "  </thead>\n",
       "  <tbody>\n",
       "    <tr>\n",
       "      <th>2012-07-30</th>\n",
       "      <td>24.000000</td>\n",
       "      <td>24.040001</td>\n",
       "      <td>23.030001</td>\n",
       "      <td>23.150000</td>\n",
       "      <td>23.150000</td>\n",
       "      <td>29285900</td>\n",
       "      <td>27.521</td>\n",
       "      <td>29.8390</td>\n",
       "    </tr>\n",
       "    <tr>\n",
       "      <th>2012-07-31</th>\n",
       "      <td>23.370001</td>\n",
       "      <td>23.370001</td>\n",
       "      <td>21.610001</td>\n",
       "      <td>21.709999</td>\n",
       "      <td>21.709999</td>\n",
       "      <td>56179400</td>\n",
       "      <td>26.883</td>\n",
       "      <td>29.5086</td>\n",
       "    </tr>\n",
       "    <tr>\n",
       "      <th>2012-08-01</th>\n",
       "      <td>21.500000</td>\n",
       "      <td>21.580000</td>\n",
       "      <td>20.840000</td>\n",
       "      <td>20.879999</td>\n",
       "      <td>20.879999</td>\n",
       "      <td>44604400</td>\n",
       "      <td>26.060</td>\n",
       "      <td>29.2456</td>\n",
       "    </tr>\n",
       "    <tr>\n",
       "      <th>2012-08-02</th>\n",
       "      <td>20.770000</td>\n",
       "      <td>20.840000</td>\n",
       "      <td>19.820000</td>\n",
       "      <td>20.040001</td>\n",
       "      <td>20.040001</td>\n",
       "      <td>56374500</td>\n",
       "      <td>25.164</td>\n",
       "      <td>29.0264</td>\n",
       "    </tr>\n",
       "    <tr>\n",
       "      <th>2012-08-03</th>\n",
       "      <td>20.360001</td>\n",
       "      <td>22.160000</td>\n",
       "      <td>19.900000</td>\n",
       "      <td>21.090000</td>\n",
       "      <td>21.090000</td>\n",
       "      <td>80647000</td>\n",
       "      <td>24.397</td>\n",
       "      <td>28.8082</td>\n",
       "    </tr>\n",
       "  </tbody>\n",
       "</table>\n",
       "</div>"
      ],
      "text/plain": [
       "                 Open       High        Low      Close  Adj Close    Volume  \\\n",
       "Date                                                                          \n",
       "2012-07-30  24.000000  24.040001  23.030001  23.150000  23.150000  29285900   \n",
       "2012-07-31  23.370001  23.370001  21.610001  21.709999  21.709999  56179400   \n",
       "2012-08-01  21.500000  21.580000  20.840000  20.879999  20.879999  44604400   \n",
       "2012-08-02  20.770000  20.840000  19.820000  20.040001  20.040001  56374500   \n",
       "2012-08-03  20.360001  22.160000  19.900000  21.090000  21.090000  80647000   \n",
       "\n",
       "              MA10     MA50  \n",
       "Date                         \n",
       "2012-07-30  27.521  29.8390  \n",
       "2012-07-31  26.883  29.5086  \n",
       "2012-08-01  26.060  29.2456  \n",
       "2012-08-02  25.164  29.0264  \n",
       "2012-08-03  24.397  28.8082  "
      ]
     },
     "execution_count": 82,
     "metadata": {},
     "output_type": "execute_result"
    }
   ],
   "source": [
    "fb.head()"
   ]
  },
  {
   "cell_type": "markdown",
   "metadata": {},
   "source": [
    "## Adding shares column to make decision based on startegy"
   ]
  },
  {
   "cell_type": "code",
   "execution_count": 85,
   "metadata": {},
   "outputs": [],
   "source": [
    "# Add a new column 'Shares' to the DataFrame\n",
    "# Assign 1 if the 10-day moving average (MA10) is greater than the 50-day moving average (MA50)\n",
    "# Otherwise, assign 0\n",
    "fb['Shares'] = [1 if fb.loc[ei, 'MA10'] > fb.loc[ei, 'MA50'] else 0 for ei in fb.index]\n"
   ]
  },
  {
   "cell_type": "code",
   "execution_count": 86,
   "metadata": {},
   "outputs": [
    {
     "data": {
      "text/plain": [
       "<matplotlib.lines.Line2D at 0x2973146fc50>"
      ]
     },
     "execution_count": 86,
     "metadata": {},
     "output_type": "execute_result"
    },
    {
     "data": {
      "image/png": "[encoded data removed]",
      "text/plain": [
       "<Figure size 640x480 with 1 Axes>"
      ]
     },
     "metadata": {},
     "output_type": "display_data"
    }
   ],
   "source": [
    "# Create a new column 'Close1' which holds the next day's 'Close' price by shifting the 'Close' column upward by 1\n",
    "fb['Close1'] = fb['Close'].shift(-1)\n",
    "\n",
    "# Create a new column 'Profit'\n",
    "# If 'Shares' equals 1 (indicating a buy signal), calculate the profit as the difference between 'Close1' and 'Close'\n",
    "# Otherwise, set the profit to 0\n",
    "fb['Profit'] = [fb.loc[ei, 'Close1'] - fb.loc[ei, 'Close'] if fb.loc[ei,'Shares'] == 1 else 0 for ei in fb.index]\n",
    "\n",
    "# Plot the 'Profit' column\n",
    "fb['Profit'].plot()\n",
    "\n",
    "# Add a horizontal red line at y=0 to visually separate positive and negative profit values\n",
    "plt.axhline(y=0, color='red')\n"
   ]
  },
  {
   "cell_type": "markdown",
   "metadata": {},
   "source": [
    "## Displaying total profit earned"
   ]
  },
  {
   "cell_type": "code",
   "execution_count": 87,
   "metadata": {},
   "outputs": [
    {
     "data": {
      "text/html": [
       "<div>\n",
       "<style scoped>\n",
       "    .dataframe tbody tr th:only-of-type {\n",
       "        vertical-align: middle;\n",
       "    }\n",
       "\n",
       "    .dataframe tbody tr th {\n",
       "        vertical-align: top;\n",
       "    }\n",
       "\n",
       "    .dataframe thead th {\n",
       "        text-align: right;\n",
       "    }\n",
       "</style>\n",
       "<table border=\"1\" class=\"dataframe\">\n",
       "  <thead>\n",
       "    <tr style=\"text-align: right;\">\n",
       "      <th></th>\n",
       "      <th>Open</th>\n",
       "      <th>High</th>\n",
       "      <th>Low</th>\n",
       "      <th>Close</th>\n",
       "      <th>Adj Close</th>\n",
       "      <th>Volume</th>\n",
       "      <th>MA10</th>\n",
       "      <th>MA50</th>\n",
       "      <th>Close1</th>\n",
       "      <th>Shares</th>\n",
       "      <th>Profit</th>\n",
       "      <th>Total_Profit</th>\n",
       "    </tr>\n",
       "    <tr>\n",
       "      <th>Date</th>\n",
       "      <th></th>\n",
       "      <th></th>\n",
       "      <th></th>\n",
       "      <th></th>\n",
       "      <th></th>\n",
       "      <th></th>\n",
       "      <th></th>\n",
       "      <th></th>\n",
       "      <th></th>\n",
       "      <th></th>\n",
       "      <th></th>\n",
       "      <th></th>\n",
       "    </tr>\n",
       "  </thead>\n",
       "  <tbody>\n",
       "    <tr>\n",
       "      <th>2022-03-18</th>\n",
       "      <td>206.699997</td>\n",
       "      <td>216.800003</td>\n",
       "      <td>206.000000</td>\n",
       "      <td>216.490005</td>\n",
       "      <td>216.490005</td>\n",
       "      <td>52055000</td>\n",
       "      <td>196.570001</td>\n",
       "      <td>250.190801</td>\n",
       "      <td>211.490005</td>\n",
       "      <td>0</td>\n",
       "      <td>0.0</td>\n",
       "      <td>161.620013</td>\n",
       "    </tr>\n",
       "    <tr>\n",
       "      <th>2022-03-21</th>\n",
       "      <td>214.500000</td>\n",
       "      <td>214.710007</td>\n",
       "      <td>207.630005</td>\n",
       "      <td>211.490005</td>\n",
       "      <td>211.490005</td>\n",
       "      <td>30142300</td>\n",
       "      <td>198.972002</td>\n",
       "      <td>247.771401</td>\n",
       "      <td>216.649994</td>\n",
       "      <td>0</td>\n",
       "      <td>0.0</td>\n",
       "      <td>161.620013</td>\n",
       "    </tr>\n",
       "    <tr>\n",
       "      <th>2022-03-22</th>\n",
       "      <td>211.369995</td>\n",
       "      <td>219.460007</td>\n",
       "      <td>210.179993</td>\n",
       "      <td>216.649994</td>\n",
       "      <td>216.649994</td>\n",
       "      <td>31998800</td>\n",
       "      <td>201.608002</td>\n",
       "      <td>245.468601</td>\n",
       "      <td>213.460007</td>\n",
       "      <td>0</td>\n",
       "      <td>0.0</td>\n",
       "      <td>161.620013</td>\n",
       "    </tr>\n",
       "    <tr>\n",
       "      <th>2022-03-23</th>\n",
       "      <td>213.330002</td>\n",
       "      <td>216.800003</td>\n",
       "      <td>212.160004</td>\n",
       "      <td>213.460007</td>\n",
       "      <td>213.460007</td>\n",
       "      <td>23717300</td>\n",
       "      <td>203.104002</td>\n",
       "      <td>243.176401</td>\n",
       "      <td>219.570007</td>\n",
       "      <td>0</td>\n",
       "      <td>0.0</td>\n",
       "      <td>161.620013</td>\n",
       "    </tr>\n",
       "    <tr>\n",
       "      <th>2022-03-24</th>\n",
       "      <td>215.000000</td>\n",
       "      <td>220.669998</td>\n",
       "      <td>214.789993</td>\n",
       "      <td>219.570007</td>\n",
       "      <td>219.570007</td>\n",
       "      <td>31466000</td>\n",
       "      <td>205.540002</td>\n",
       "      <td>240.880401</td>\n",
       "      <td>NaN</td>\n",
       "      <td>0</td>\n",
       "      <td>0.0</td>\n",
       "      <td>161.620013</td>\n",
       "    </tr>\n",
       "  </tbody>\n",
       "</table>\n",
       "</div>"
      ],
      "text/plain": [
       "                  Open        High         Low       Close   Adj Close  \\\n",
       "Date                                                                     \n",
       "2022-03-18  206.699997  216.800003  206.000000  216.490005  216.490005   \n",
       "2022-03-21  214.500000  214.710007  207.630005  211.490005  211.490005   \n",
       "2022-03-22  211.369995  219.460007  210.179993  216.649994  216.649994   \n",
       "2022-03-23  213.330002  216.800003  212.160004  213.460007  213.460007   \n",
       "2022-03-24  215.000000  220.669998  214.789993  219.570007  219.570007   \n",
       "\n",
       "              Volume        MA10        MA50      Close1  Shares  Profit  \\\n",
       "Date                                                                       \n",
       "2022-03-18  52055000  196.570001  250.190801  211.490005       0     0.0   \n",
       "2022-03-21  30142300  198.972002  247.771401  216.649994       0     0.0   \n",
       "2022-03-22  31998800  201.608002  245.468601  213.460007       0     0.0   \n",
       "2022-03-23  23717300  203.104002  243.176401  219.570007       0     0.0   \n",
       "2022-03-24  31466000  205.540002  240.880401         NaN       0     0.0   \n",
       "\n",
       "            Total_Profit  \n",
       "Date                      \n",
       "2022-03-18    161.620013  \n",
       "2022-03-21    161.620013  \n",
       "2022-03-22    161.620013  \n",
       "2022-03-23    161.620013  \n",
       "2022-03-24    161.620013  "
      ]
     },
     "execution_count": 87,
     "metadata": {},
     "output_type": "execute_result"
    }
   ],
   "source": [
    "# Calculate the cumulative sum of the 'Profit' column to determine the total profit over time\n",
    "# Add the result as a new column 'Total_Profit'\n",
    "fb[\"Total_Profit\"] = fb[\"Profit\"].cumsum()\n",
    "\n",
    "# Display the last few rows of the DataFrame to check the final state, including 'Total_Profit'\n",
    "fb.tail()\n"
   ]
  },
  {
   "cell_type": "code",
   "execution_count": 89,
   "metadata": {},
   "outputs": [
    {
     "name": "stdout",
     "output_type": "stream",
     "text": [
      "The total money earned by buying one share every time the strategy predicts: 161.62001299999997\n"
     ]
    },
    {
     "data": {
      "image/png": "[encoded data removed]",
      "text/plain": [
       "<Figure size 640x480 with 1 Axes>"
      ]
     },
     "metadata": {},
     "output_type": "display_data"
    }
   ],
   "source": [
    "# Print the total money earned based on the strategy\n",
    "# Access the second-to-last value of the 'Total_Profit' column, as the last row might have NaN (due to 'Close1' shift)\n",
    "print(f\"The total money earned by buying one share every time the strategy predicts: {fb.loc[fb.index[-2], 'Total_Profit']}\")\n",
    "\n",
    "# Plot the 'Total_Profit' column to visualize the cumulative profit over time\n",
    "fb[\"Total_Profit\"].plot(title=\"Cumulative Profit Over Time\")\n",
    "plt.xlabel(\"Index\")  # Label for the x-axis\n",
    "plt.ylabel(\"Total Profit\")  # Label for the y-axis\n",
    "plt.show()  # Display the plot\n",
    "\n",
    "\n"
   ]
  }
 ],
 "metadata": {
  "kernelspec": {
   "display_name": ".venv",
   "language": "python",
   "name": "python3"
  },
  "language_info": {
   "codemirror_mode": {
    "name": "ipython",
    "version": 3
   },
   "file_extension": ".py",
   "mimetype": "text/x-python",
   "name": "python",
   "nbconvert_exporter": "python",
   "pygments_lexer": "ipython3",
   "version": "3.13.1"
  }
 },
 "nbformat": 4,
 "nbformat_minor": 2
}
